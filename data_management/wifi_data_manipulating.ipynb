{
 "cells": [
  {
   "cell_type": "code",
   "execution_count": 480,
   "metadata": {},
   "outputs": [],
   "source": [
    "import pandas as pd\n",
    "from bs4 import BeautifulSoup\n",
    "import sqlalchemy, sqlite3"
   ]
  },
  {
   "cell_type": "code",
   "execution_count": 481,
   "metadata": {},
   "outputs": [],
   "source": [
    "engine = sqlalchemy.create_engine('sqlite:///data_db.db')\n",
    "file_to_read = \"../media/20210601-1752_prototype1_wifi_scan-01.csv\""
   ]
  },
  {
   "cell_type": "code",
   "execution_count": 482,
   "metadata": {},
   "outputs": [],
   "source": [
    "with open(file_to_read, \"r\") as f:\n",
    "    df = pd.read_csv(f)"
   ]
  },
  {
   "cell_type": "code",
   "execution_count": 483,
   "metadata": {},
   "outputs": [
    {
     "name": "stdout",
     "output_type": "stream",
     "text": [
      "               BSSID       First time seen        Last time seen  channel  \\\n",
      "0  A6:08:F5:68:D5:17   2021-06-01 17:52:42   2021-06-01 17:52:46        1   \n",
      "1  A4:08:F5:68:D3:16   2021-06-01 17:52:42   2021-06-01 17:52:46        1   \n",
      "2  7A:97:41:0F:33:D7   2021-06-01 17:52:45   2021-06-01 17:52:46        6   \n",
      "3  70:97:41:0F:33:D3   2021-06-01 17:52:45   2021-06-01 17:52:46        6   \n",
      "4  7A:97:41:0F:33:D4   2021-06-01 17:52:45   2021-06-01 17:52:46        6   \n",
      "5        Station MAC       First time seen        Last time seen    Power   \n",
      "6  DC:A6:32:74:A4:79   2021-06-01 17:52:42   2021-06-01 17:52:43      -14   \n",
      "\n",
      "        Speed             Privacy          Cipher  Authentication   Power  \\\n",
      "0          54                 OPN                                   -56.0   \n",
      "1          54                WPA2            CCMP             PSK   -57.0   \n",
      "2          54                WPA2            CCMP             PSK   -27.0   \n",
      "3          54                WPA2            CCMP             PSK   -26.0   \n",
      "4          54                 OPN                                   -27.0   \n",
      "5   # packets               BSSID   Probed ESSIDs             NaN     NaN   \n",
      "6           6   (not associated)              NaN             NaN     NaN   \n",
      "\n",
      "    # beacons   # IV            LAN IP   ID-length         ESSID  Key  \n",
      "0         3.0    0.0     0.  0.  0.  0         7.0       BTWi-fi       \n",
      "1         3.0    0.0     0.  0.  0.  0        11.0   BTHub6-QTGF       \n",
      "2         3.0    0.0     0.  0.  0.  0         9.0                     \n",
      "3         3.0    0.0     0.  0.  0.  0         9.0     BT-8RCKHT       \n",
      "4         2.0    0.0     0.  0.  0.  0         7.0       BTWi-fi       \n",
      "5         NaN    NaN               NaN         NaN           NaN  NaN  \n",
      "6         NaN    NaN               NaN         NaN           NaN  NaN  \n"
     ]
    }
   ],
   "source": [
    "print(df)"
   ]
  },
  {
   "cell_type": "code",
   "execution_count": 484,
   "metadata": {},
   "outputs": [
    {
     "name": "stdout",
     "output_type": "stream",
     "text": [
      "['A6:08:F5:68:D5:17', 'A4:08:F5:68:D3:16', '7A:97:41:0F:33:D7', '70:97:41:0F:33:D3', '7A:97:41:0F:33:D4', 'Station MAC']\n"
     ]
    }
   ],
   "source": [
    "mac_list = [mac for mac in df.iloc[:-1,0]] # rows[first to last], columns[first, none other]\n",
    "print(mac_list)\n"
   ]
  },
  {
   "cell_type": "code",
   "execution_count": 485,
   "metadata": {},
   "outputs": [],
   "source": [
    "# df.to_sql('test', engine, if_exists='append', index=False)\n",
    "# was causing errors - save it later so we don't get duplicates that fuck things up"
   ]
  },
  {
   "cell_type": "code",
   "execution_count": 486,
   "metadata": {},
   "outputs": [
    {
     "name": "stdout",
     "output_type": "stream",
     "text": [
      "['A6:08:F5:68:D5:17', 'A4:08:F5:68:D3:16', '7A:97:41:0F:33:D7', '70:97:41:0F:33:D3', '7A:97:41:0F:33:D4', 'DC:A6:32:74:A4:79']\n"
     ]
    }
   ],
   "source": [
    "# macs = pd.read_sql('test', engine) # - see above\n",
    "macs = df['BSSID']\n",
    "macs = [mac for mac in macs if mac != \"Station MAC\"] # csv/df needs cleaning, unpredictable second header row\n",
    "print(macs)"
   ]
  },
  {
   "cell_type": "code",
   "execution_count": 487,
   "metadata": {},
   "outputs": [
    {
     "name": "stdout",
     "output_type": "stream",
     "text": [
      "prefixes\n",
      "['A608F5', 'A408F5', '7A9741', '709741', '7A9741', 'DCA632']\n",
      "suffixes\n",
      "['68D517', '68D316', '0F33D7', '0F33D3', '0F33D4', '74A479']\n"
     ]
    }
   ],
   "source": [
    "mac_prefixes = [mac[:8].replace(\":\", \"\") for mac in macs] # organisational identifier\n",
    "mac_suffixes = [mac[9:].replace(\":\", \"\") for mac in macs] # personal identifier\n",
    "print(\"prefixes\")\n",
    "print(mac_prefixes)\n",
    "print(\"suffixes\")\n",
    "print(mac_suffixes)"
   ]
  },
  {
   "cell_type": "code",
   "execution_count": 488,
   "metadata": {},
   "outputs": [],
   "source": [
    "import requests"
   ]
  },
  {
   "cell_type": "code",
   "execution_count": 489,
   "metadata": {},
   "outputs": [],
   "source": [
    "def mac_lookup(macaddr):\n",
    "    headers = {'User-agent': 'Mozilla/5.0 (X11; Ubuntu; Linux x86_64; rv:61.0) Gecko/20100101 Firefox/61.0'}\n",
    "    r = requests.get(f'https://maclookup.app/search/result?mac={macaddr}', headers = headers)\n",
    "    c = r.content\n",
    "    soup = BeautifulSoup(c, \"html.parser\")\n",
    "    try:\n",
    "        org = soup.select_one(\"h2\").get_text()\n",
    "    except:\n",
    "        org=\"Unknown\"\n",
    "    return org"
   ]
  },
  {
   "cell_type": "code",
   "execution_count": 490,
   "metadata": {},
   "outputs": [
    {
     "data": {
      "text/plain": [
       "'Sagemcom Broadband SAS'"
      ]
     },
     "execution_count": 490,
     "metadata": {},
     "output_type": "execute_result"
    }
   ],
   "source": [
    "mac_lookup(\"A408F5\")"
   ]
  },
  {
   "cell_type": "code",
   "execution_count": 491,
   "metadata": {},
   "outputs": [
    {
     "name": "stdout",
     "output_type": "stream",
     "text": [
      "['Unknown', 'Sagemcom Broadband SAS', 'Unknown', 'Arcadyan Corporation', 'Unknown', 'Raspberry Pi Trading Ltd']\n"
     ]
    }
   ],
   "source": [
    "devices = []\n",
    "devices = [mac_lookup(prefix) for prefix in mac_prefixes]\n",
    "print(devices)"
   ]
  },
  {
   "cell_type": "markdown",
   "metadata": {},
   "source": [
    "### Clean and store CSV data to DB"
   ]
  },
  {
   "cell_type": "code",
   "execution_count": 492,
   "metadata": {},
   "outputs": [
    {
     "name": "stdout",
     "output_type": "stream",
     "text": [
      "{'A6:08:F5:68:D5:17': [-56.0], 'A4:08:F5:68:D3:16': [-57.0], '7A:97:41:0F:33:D7': [-27.0], '70:97:41:0F:33:D3': [-26.0], '7A:97:41:0F:33:D4': [-27.0], 'DC:A6:32:74:A4:79': [nan]}\n",
      "               BSSID channel power_readings        ESSID  \\\n",
      "0  A6:08:F5:68:D5:17       1        [-56.0]      BTWi-fi   \n",
      "1  A4:08:F5:68:D3:16       1        [-57.0]  BTHub6-QTGF   \n",
      "2  7A:97:41:0F:33:D7       6        [-27.0]          NaN   \n",
      "3  70:97:41:0F:33:D3       6        [-26.0]    BT-8RCKHT   \n",
      "4  7A:97:41:0F:33:D4       6        [-27.0]      BTWi-fi   \n",
      "6  DC:A6:32:74:A4:79      99          [nan]         None   \n",
      "\n",
      "                      maker                                       sightings  \n",
      "0                   Unknown  ['2021-06-01 17:52:42', '2021-06-01 17:52:46']  \n",
      "1    Sagemcom Broadband SAS  ['2021-06-01 17:52:42', '2021-06-01 17:52:46']  \n",
      "2                   Unknown  ['2021-06-01 17:52:45', '2021-06-01 17:52:46']  \n",
      "3      Arcadyan Corporation  ['2021-06-01 17:52:45', '2021-06-01 17:52:46']  \n",
      "4                   Unknown  ['2021-06-01 17:52:45', '2021-06-01 17:52:46']  \n",
      "6  Raspberry Pi Trading Ltd  ['2021-06-01 17:52:42', '2021-06-01 17:52:43']  \n"
     ]
    }
   ],
   "source": [
    "data = pd.read_csv(file_to_read, sep=r'\\s*,\\s*', encoding='ascii', engine='python')\n",
    "\n",
    "# delete second header row\n",
    "data.drop(data.index[data['BSSID'] == \"Station MAC\"], inplace=True)\n",
    "\n",
    "# put first seen and last seen into a list of 'sightings' of that device\n",
    "sightings_dict = {}\n",
    "for device, fts, lts in zip(data['BSSID'], data['First time seen'], data['Last time seen']):\n",
    "    sightings = []\n",
    "    sightings.append(fts)\n",
    "    sightings.append(lts)\n",
    "    sightings_dict[device] = sightings\n",
    "    \n",
    "# we can do this with power as well so we can see whether device is moving closer/further from detector\n",
    "power_dict = {}\n",
    "for device, power_reading in zip(data['BSSID'], data['Power']):\n",
    "    power_readings = []\n",
    "    power_readings.append(power_reading)\n",
    "    power_dict[device] = power_readings\n",
    "\n",
    "# sort out devices that appeared below second heaader row (non-dynamically...)\n",
    "for index, row in data.iterrows():\n",
    "    if int(row.channel) < 0:\n",
    "        data.at[index, 'Power'] = row.channel\n",
    "        data.at[index, 'channel'] = 99\n",
    "\n",
    "    \n",
    "\n",
    "data = data.assign(sightings=[str(value) for value in sightings_dict.values()])\n",
    "data = data.assign(power_readings=[str(value) for value in power_dict.values()])\n",
    "data = data.assign(maker=[m for m in devices])\n",
    "data = data[['BSSID','channel','power_readings','ESSID', 'maker', 'sightings']]\n",
    "print(data)"
   ]
  },
  {
   "cell_type": "code",
   "execution_count": 493,
   "metadata": {},
   "outputs": [],
   "source": [
    "data.to_sql('test', engine, if_exists='append', index=False)"
   ]
  },
  {
   "cell_type": "markdown",
   "metadata": {},
   "source": [
    "### Dezerializing listed information\n",
    "\n",
    "Because SQL cells cannot hold lists we serialize some cell values into a string, therefore must deserialize them when we use them in the code. These properties are ones we want to track over time (ie times detected, power fluctuation over time to indicate distance from detector...)"
   ]
  },
  {
   "cell_type": "code",
   "execution_count": 497,
   "metadata": {},
   "outputs": [],
   "source": [
    "def deserialize(device, detail):\n",
    "    with engine.connect() as conn:\n",
    "        res = conn.execute(\"SELECT * from test WHERE BSSID=?\", (device,))\n",
    "        for row in res:\n",
    "            original_db_string = row[detail]\n",
    "            original_db_string = original_db_string.replace(\"[\", \"\")\n",
    "            original_db_string = original_db_string.replace(\"]\", \"\")\n",
    "            original_db_string = original_db_string.replace(\"'\", \"\")\n",
    "            original_db_string = original_db_string.split(\",\")\n",
    "            return original_db_string\n",
    "            \n",
    "    "
   ]
  },
  {
   "cell_type": "code",
   "execution_count": 496,
   "metadata": {},
   "outputs": [
    {
     "name": "stdout",
     "output_type": "stream",
     "text": [
      "<class 'str'>\n",
      "<class 'str'>\n",
      "<class 'str'>\n",
      "<class 'str'>\n",
      "<class 'str'>\n",
      "<class 'str'>\n"
     ]
    }
   ],
   "source": [
    "with engine.connect() as conn:\n",
    "    res = conn.execute(\"SELECT * from test\")\n",
    "    for row in res:\n",
    "        print(type(row['power_readings']))"
   ]
  },
  {
   "cell_type": "code",
   "execution_count": 501,
   "metadata": {},
   "outputs": [
    {
     "name": "stdout",
     "output_type": "stream",
     "text": [
      "<class 'list'>\n",
      "['2021-06-01 17:52:45', ' 2021-06-01 17:52:46']\n"
     ]
    }
   ],
   "source": [
    "dbdata_to_list = deserialize(\"7A:97:41:0F:33:D4\", \"sightings\")\n",
    "print(type(dbdata_to_list))\n",
    "print(dbdata_to_list)"
   ]
  },
  {
   "cell_type": "markdown",
   "metadata": {},
   "source": [
    "**Serializing items in order to add to DB**"
   ]
  },
  {
   "cell_type": "code",
   "execution_count": 502,
   "metadata": {},
   "outputs": [],
   "source": [
    "def serialize(detail):\n",
    "    detail = str(detail)\n",
    "    return detail"
   ]
  },
  {
   "cell_type": "code",
   "execution_count": 504,
   "metadata": {},
   "outputs": [
    {
     "data": {
      "text/plain": [
       "\"['2021-06-01 17:52:45', ' 2021-06-01 17:52:46']\""
      ]
     },
     "execution_count": 504,
     "metadata": {},
     "output_type": "execute_result"
    }
   ],
   "source": [
    "serialize(deserialize(\"7A:97:41:0F:33:D4\", \"sightings\"))"
   ]
  },
  {
   "cell_type": "markdown",
   "metadata": {},
   "source": [
    "### Getting records already in the DB, deserializing the list data, adding the new value, reserializing and re-storing"
   ]
  },
  {
   "cell_type": "code",
   "execution_count": 546,
   "metadata": {},
   "outputs": [
    {
     "name": "stdout",
     "output_type": "stream",
     "text": [
      "<class 'str'>\n",
      "[-27.0]\n",
      "<class 'str'>\n",
      "['2021-06-01 17:52:45', '2021-06-01 17:52:46']\n"
     ]
    }
   ],
   "source": [
    "def check_device(bssid):\n",
    "    conn=sqlite3.connect(\"data_db.db\")\n",
    "    cur=conn.cursor()\n",
    "    cur.execute(\"SELECT * FROM test WHERE BSSID=?\", (bssid,))\n",
    "    result=cur.fetchall()\n",
    "    conn.close()\n",
    "    \n",
    "    if result != []:\n",
    "        return result\n",
    "    else:\n",
    "        return None\n",
    "\n",
    "dcheck = check_device(\"7A:97:41:0F:33:D4\")\n",
    "\n",
    "p_reading = dcheck[0][2]\n",
    "s_list = dcheck[0][5]\n",
    "print(type(p_reading))\n",
    "print(p_reading)\n",
    "print(type(s_list))\n",
    "print(s_list)"
   ]
  },
  {
   "cell_type": "markdown",
   "metadata": {},
   "source": [
    "### Test DataSorter class"
   ]
  },
  {
   "cell_type": "code",
   "execution_count": 554,
   "metadata": {},
   "outputs": [
    {
     "name": "stdout",
     "output_type": "stream",
     "text": [
      "[DATA - Database] Database created\n",
      "{'A6:08:F5:68:D5:17': [-56.0], 'A4:08:F5:68:D3:16': [-57.0], '7A:97:41:0F:33:D7': [-27.0], '70:97:41:0F:33:D3': [-26.0], '7A:97:41:0F:33:D4': [-27.0], 'DC:A6:32:74:A4:79': [nan]}\n"
     ]
    },
    {
     "ename": "ValueError",
     "evalue": "Length of values (7) does not match length of index (6)",
     "output_type": "error",
     "traceback": [
      "\u001b[0;31m---------------------------------------------------------------------------\u001b[0m",
      "\u001b[0;31mValueError\u001b[0m                                Traceback (most recent call last)",
      "\u001b[0;32m/tmp/ipykernel_23761/2949908929.py\u001b[0m in \u001b[0;36m<module>\u001b[0;34m\u001b[0m\n\u001b[1;32m      2\u001b[0m \u001b[0;34m\u001b[0m\u001b[0m\n\u001b[1;32m      3\u001b[0m \u001b[0md\u001b[0m \u001b[0;34m=\u001b[0m \u001b[0mDataSorter\u001b[0m\u001b[0;34m(\u001b[0m\u001b[0;34m\"../media/20210601-1752_prototype1_wifi_scan-01.csv\"\u001b[0m\u001b[0;34m)\u001b[0m\u001b[0;34m\u001b[0m\u001b[0;34m\u001b[0m\u001b[0m\n\u001b[0;32m----> 4\u001b[0;31m \u001b[0md\u001b[0m\u001b[0;34m.\u001b[0m\u001b[0mstore_new_report\u001b[0m\u001b[0;34m(\u001b[0m\u001b[0;34m)\u001b[0m\u001b[0;34m\u001b[0m\u001b[0;34m\u001b[0m\u001b[0m\n\u001b[0m",
      "\u001b[0;32m~/Documents/Main/Code/Projects/rnet/rnet/data_management/scanned_data_sorter.py\u001b[0m in \u001b[0;36mstore_new_report\u001b[0;34m(self)\u001b[0m\n\u001b[1;32m     84\u001b[0m         \u001b[0;32mfor\u001b[0m \u001b[0mindex\u001b[0m\u001b[0;34m,\u001b[0m \u001b[0mrow\u001b[0m \u001b[0;32min\u001b[0m \u001b[0mdata\u001b[0m\u001b[0;34m.\u001b[0m\u001b[0miterrows\u001b[0m\u001b[0;34m(\u001b[0m\u001b[0;34m)\u001b[0m\u001b[0;34m:\u001b[0m\u001b[0;34m\u001b[0m\u001b[0;34m\u001b[0m\u001b[0m\n\u001b[1;32m     85\u001b[0m             \u001b[0;32mif\u001b[0m \u001b[0mint\u001b[0m\u001b[0;34m(\u001b[0m\u001b[0mrow\u001b[0m\u001b[0;34m.\u001b[0m\u001b[0mchannel\u001b[0m\u001b[0;34m)\u001b[0m \u001b[0;34m<\u001b[0m \u001b[0;36m0\u001b[0m\u001b[0;34m:\u001b[0m\u001b[0;34m\u001b[0m\u001b[0;34m\u001b[0m\u001b[0m\n\u001b[0;32m---> 86\u001b[0;31m                 \u001b[0mdata\u001b[0m\u001b[0;34m.\u001b[0m\u001b[0mat\u001b[0m\u001b[0;34m[\u001b[0m\u001b[0mindex\u001b[0m\u001b[0;34m,\u001b[0m \u001b[0;34m'Power'\u001b[0m\u001b[0;34m]\u001b[0m \u001b[0;34m=\u001b[0m \u001b[0mrow\u001b[0m\u001b[0;34m.\u001b[0m\u001b[0mchannel\u001b[0m\u001b[0;34m\u001b[0m\u001b[0;34m\u001b[0m\u001b[0m\n\u001b[0m\u001b[1;32m     87\u001b[0m                 \u001b[0mdata\u001b[0m\u001b[0;34m.\u001b[0m\u001b[0mat\u001b[0m\u001b[0;34m[\u001b[0m\u001b[0mindex\u001b[0m\u001b[0;34m,\u001b[0m \u001b[0;34m'channel'\u001b[0m\u001b[0;34m]\u001b[0m \u001b[0;34m=\u001b[0m \u001b[0;36m99\u001b[0m\u001b[0;34m\u001b[0m\u001b[0;34m\u001b[0m\u001b[0m\n\u001b[1;32m     88\u001b[0m \u001b[0;34m\u001b[0m\u001b[0m\n",
      "\u001b[0;32m~/.local/lib/python3.8/site-packages/pandas/core/frame.py\u001b[0m in \u001b[0;36massign\u001b[0;34m(self, **kwargs)\u001b[0m\n\u001b[1;32m   4484\u001b[0m \u001b[0;34m\u001b[0m\u001b[0m\n\u001b[1;32m   4485\u001b[0m         \u001b[0;32mfor\u001b[0m \u001b[0mk\u001b[0m\u001b[0;34m,\u001b[0m \u001b[0mv\u001b[0m \u001b[0;32min\u001b[0m \u001b[0mkwargs\u001b[0m\u001b[0;34m.\u001b[0m\u001b[0mitems\u001b[0m\u001b[0;34m(\u001b[0m\u001b[0;34m)\u001b[0m\u001b[0;34m:\u001b[0m\u001b[0;34m\u001b[0m\u001b[0;34m\u001b[0m\u001b[0m\n\u001b[0;32m-> 4486\u001b[0;31m             \u001b[0mdata\u001b[0m\u001b[0;34m[\u001b[0m\u001b[0mk\u001b[0m\u001b[0;34m]\u001b[0m \u001b[0;34m=\u001b[0m \u001b[0mcom\u001b[0m\u001b[0;34m.\u001b[0m\u001b[0mapply_if_callable\u001b[0m\u001b[0;34m(\u001b[0m\u001b[0mv\u001b[0m\u001b[0;34m,\u001b[0m \u001b[0mdata\u001b[0m\u001b[0;34m)\u001b[0m\u001b[0;34m\u001b[0m\u001b[0;34m\u001b[0m\u001b[0m\n\u001b[0m\u001b[1;32m   4487\u001b[0m         \u001b[0;32mreturn\u001b[0m \u001b[0mdata\u001b[0m\u001b[0;34m\u001b[0m\u001b[0;34m\u001b[0m\u001b[0m\n\u001b[1;32m   4488\u001b[0m \u001b[0;34m\u001b[0m\u001b[0m\n",
      "\u001b[0;32m~/.local/lib/python3.8/site-packages/pandas/core/frame.py\u001b[0m in \u001b[0;36m__setitem__\u001b[0;34m(self, key, value)\u001b[0m\n\u001b[1;32m   3610\u001b[0m         \u001b[0;32melse\u001b[0m\u001b[0;34m:\u001b[0m\u001b[0;34m\u001b[0m\u001b[0;34m\u001b[0m\u001b[0m\n\u001b[1;32m   3611\u001b[0m             \u001b[0;31m# set column\u001b[0m\u001b[0;34m\u001b[0m\u001b[0;34m\u001b[0m\u001b[0;34m\u001b[0m\u001b[0m\n\u001b[0;32m-> 3612\u001b[0;31m             \u001b[0mself\u001b[0m\u001b[0;34m.\u001b[0m\u001b[0m_set_item\u001b[0m\u001b[0;34m(\u001b[0m\u001b[0mkey\u001b[0m\u001b[0;34m,\u001b[0m \u001b[0mvalue\u001b[0m\u001b[0;34m)\u001b[0m\u001b[0;34m\u001b[0m\u001b[0;34m\u001b[0m\u001b[0m\n\u001b[0m\u001b[1;32m   3613\u001b[0m \u001b[0;34m\u001b[0m\u001b[0m\n\u001b[1;32m   3614\u001b[0m     \u001b[0;32mdef\u001b[0m \u001b[0m_setitem_slice\u001b[0m\u001b[0;34m(\u001b[0m\u001b[0mself\u001b[0m\u001b[0;34m,\u001b[0m \u001b[0mkey\u001b[0m\u001b[0;34m:\u001b[0m \u001b[0mslice\u001b[0m\u001b[0;34m,\u001b[0m \u001b[0mvalue\u001b[0m\u001b[0;34m)\u001b[0m\u001b[0;34m:\u001b[0m\u001b[0;34m\u001b[0m\u001b[0;34m\u001b[0m\u001b[0m\n",
      "\u001b[0;32m~/.local/lib/python3.8/site-packages/pandas/core/frame.py\u001b[0m in \u001b[0;36m_set_item\u001b[0;34m(self, key, value)\u001b[0m\n\u001b[1;32m   3782\u001b[0m         \u001b[0mensure\u001b[0m \u001b[0mhomogeneity\u001b[0m\u001b[0;34m.\u001b[0m\u001b[0;34m\u001b[0m\u001b[0;34m\u001b[0m\u001b[0m\n\u001b[1;32m   3783\u001b[0m         \"\"\"\n\u001b[0;32m-> 3784\u001b[0;31m         \u001b[0mvalue\u001b[0m \u001b[0;34m=\u001b[0m \u001b[0mself\u001b[0m\u001b[0;34m.\u001b[0m\u001b[0m_sanitize_column\u001b[0m\u001b[0;34m(\u001b[0m\u001b[0mvalue\u001b[0m\u001b[0;34m)\u001b[0m\u001b[0;34m\u001b[0m\u001b[0;34m\u001b[0m\u001b[0m\n\u001b[0m\u001b[1;32m   3785\u001b[0m \u001b[0;34m\u001b[0m\u001b[0m\n\u001b[1;32m   3786\u001b[0m         if (\n",
      "\u001b[0;32m~/.local/lib/python3.8/site-packages/pandas/core/frame.py\u001b[0m in \u001b[0;36m_sanitize_column\u001b[0;34m(self, value)\u001b[0m\n\u001b[1;32m   4507\u001b[0m \u001b[0;34m\u001b[0m\u001b[0m\n\u001b[1;32m   4508\u001b[0m         \u001b[0;32mif\u001b[0m \u001b[0mis_list_like\u001b[0m\u001b[0;34m(\u001b[0m\u001b[0mvalue\u001b[0m\u001b[0;34m)\u001b[0m\u001b[0;34m:\u001b[0m\u001b[0;34m\u001b[0m\u001b[0;34m\u001b[0m\u001b[0m\n\u001b[0;32m-> 4509\u001b[0;31m             \u001b[0mcom\u001b[0m\u001b[0;34m.\u001b[0m\u001b[0mrequire_length_match\u001b[0m\u001b[0;34m(\u001b[0m\u001b[0mvalue\u001b[0m\u001b[0;34m,\u001b[0m \u001b[0mself\u001b[0m\u001b[0;34m.\u001b[0m\u001b[0mindex\u001b[0m\u001b[0;34m)\u001b[0m\u001b[0;34m\u001b[0m\u001b[0;34m\u001b[0m\u001b[0m\n\u001b[0m\u001b[1;32m   4510\u001b[0m         \u001b[0;32mreturn\u001b[0m \u001b[0msanitize_array\u001b[0m\u001b[0;34m(\u001b[0m\u001b[0mvalue\u001b[0m\u001b[0;34m,\u001b[0m \u001b[0mself\u001b[0m\u001b[0;34m.\u001b[0m\u001b[0mindex\u001b[0m\u001b[0;34m,\u001b[0m \u001b[0mcopy\u001b[0m\u001b[0;34m=\u001b[0m\u001b[0;32mTrue\u001b[0m\u001b[0;34m,\u001b[0m \u001b[0mallow_2d\u001b[0m\u001b[0;34m=\u001b[0m\u001b[0;32mTrue\u001b[0m\u001b[0;34m)\u001b[0m\u001b[0;34m\u001b[0m\u001b[0;34m\u001b[0m\u001b[0m\n\u001b[1;32m   4511\u001b[0m \u001b[0;34m\u001b[0m\u001b[0m\n",
      "\u001b[0;32m~/.local/lib/python3.8/site-packages/pandas/core/common.py\u001b[0m in \u001b[0;36mrequire_length_match\u001b[0;34m(data, index)\u001b[0m\n\u001b[1;32m    529\u001b[0m     \"\"\"\n\u001b[1;32m    530\u001b[0m     \u001b[0;32mif\u001b[0m \u001b[0mlen\u001b[0m\u001b[0;34m(\u001b[0m\u001b[0mdata\u001b[0m\u001b[0;34m)\u001b[0m \u001b[0;34m!=\u001b[0m \u001b[0mlen\u001b[0m\u001b[0;34m(\u001b[0m\u001b[0mindex\u001b[0m\u001b[0;34m)\u001b[0m\u001b[0;34m:\u001b[0m\u001b[0;34m\u001b[0m\u001b[0;34m\u001b[0m\u001b[0m\n\u001b[0;32m--> 531\u001b[0;31m         raise ValueError(\n\u001b[0m\u001b[1;32m    532\u001b[0m             \u001b[0;34m\"Length of values \"\u001b[0m\u001b[0;34m\u001b[0m\u001b[0;34m\u001b[0m\u001b[0m\n\u001b[1;32m    533\u001b[0m             \u001b[0;34mf\"({len(data)}) \"\u001b[0m\u001b[0;34m\u001b[0m\u001b[0;34m\u001b[0m\u001b[0m\n",
      "\u001b[0;31mValueError\u001b[0m: Length of values (7) does not match length of index (6)"
     ]
    }
   ],
   "source": [
    "from scanned_data_sorter import DataSorter\n",
    "\n",
    "d = DataSorter(\"../media/20210601-1752_prototype1_wifi_scan-01.csv\")\n",
    "d.store_new_report()"
   ]
  },
  {
   "cell_type": "markdown",
   "metadata": {},
   "source": []
  }
 ],
 "metadata": {
  "interpreter": {
   "hash": "31f2aee4e71d21fbe5cf8b01ff0e069b9275f58929596ceb00d14d90e3e16cd6"
  },
  "kernelspec": {
   "display_name": "Python 3",
   "language": "python",
   "name": "python3"
  },
  "language_info": {
   "codemirror_mode": {
    "name": "ipython",
    "version": 3
   },
   "file_extension": ".py",
   "mimetype": "text/x-python",
   "name": "python",
   "nbconvert_exporter": "python",
   "pygments_lexer": "ipython3",
   "version": "3.8.10"
  },
  "orig_nbformat": 4
 },
 "nbformat": 4,
 "nbformat_minor": 2
}
