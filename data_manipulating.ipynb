{
 "cells": [
  {
   "cell_type": "code",
   "execution_count": 1,
   "source": [
    "import pandas as pd\n",
    "from bs4 import BeautifulSoup\n",
    "import sqlalchemy"
   ],
   "outputs": [],
   "metadata": {}
  },
  {
   "cell_type": "code",
   "execution_count": 2,
   "source": [
    "engine = sqlalchemy.create_engine('sqlite:///data_db.db')"
   ],
   "outputs": [],
   "metadata": {}
  },
  {
   "cell_type": "code",
   "execution_count": 3,
   "source": [
    "with open(\"media/20210601-1834_prototype1_wifi_scan-01.csv\", \"r\") as f:\n",
    "    df = pd.read_csv(f)"
   ],
   "outputs": [
    {
     "output_type": "error",
     "ename": "FileNotFoundError",
     "evalue": "[Errno 2] No such file or directory: 'media/20210601-1834_prototype1_wifi_scan-01.csv'",
     "traceback": [
      "\u001b[0;31m---------------------------------------------------------------------------\u001b[0m",
      "\u001b[0;31mFileNotFoundError\u001b[0m                         Traceback (most recent call last)",
      "\u001b[0;32m<ipython-input-3-bf6178220e9a>\u001b[0m in \u001b[0;36m<module>\u001b[0;34m\u001b[0m\n\u001b[0;32m----> 1\u001b[0;31m \u001b[0;32mwith\u001b[0m \u001b[0mopen\u001b[0m\u001b[0;34m(\u001b[0m\u001b[0;34m\"media/20210601-1834_prototype1_wifi_scan-01.csv\"\u001b[0m\u001b[0;34m,\u001b[0m \u001b[0;34m\"r\"\u001b[0m\u001b[0;34m)\u001b[0m \u001b[0;32mas\u001b[0m \u001b[0mf\u001b[0m\u001b[0;34m:\u001b[0m\u001b[0;34m\u001b[0m\u001b[0;34m\u001b[0m\u001b[0m\n\u001b[0m\u001b[1;32m      2\u001b[0m     \u001b[0mdf\u001b[0m \u001b[0;34m=\u001b[0m \u001b[0mpd\u001b[0m\u001b[0;34m.\u001b[0m\u001b[0mread_csv\u001b[0m\u001b[0;34m(\u001b[0m\u001b[0mf\u001b[0m\u001b[0;34m)\u001b[0m\u001b[0;34m\u001b[0m\u001b[0;34m\u001b[0m\u001b[0m\n",
      "\u001b[0;31mFileNotFoundError\u001b[0m: [Errno 2] No such file or directory: 'media/20210601-1834_prototype1_wifi_scan-01.csv'"
     ]
    }
   ],
   "metadata": {}
  },
  {
   "cell_type": "code",
   "execution_count": 5,
   "source": [
    "print(df)"
   ],
   "outputs": [
    {
     "output_type": "stream",
     "name": "stdout",
     "text": [
      "               BSSID       First time seen        Last time seen  channel  \\\n",
      "0  A6:08:F5:68:D5:17   2021-06-01 18:34:51   2021-06-01 18:34:55        1   \n",
      "1  A4:08:F5:68:D3:16   2021-06-01 18:34:51   2021-06-01 18:34:55        1   \n",
      "2  7A:97:41:0F:33:D7   2021-06-01 18:34:54   2021-06-01 18:34:55        6   \n",
      "3  70:97:41:0F:33:D3   2021-06-01 18:34:54   2021-06-01 18:34:55        6   \n",
      "4  7A:97:41:0F:33:D4   2021-06-01 18:34:54   2021-06-01 18:34:54        6   \n",
      "5        Station MAC       First time seen        Last time seen    Power   \n",
      "\n",
      "        Speed  Privacy          Cipher  Authentication   Power   # beacons  \\\n",
      "0          54      OPN                                   -57.0         5.0   \n",
      "1          54     WPA2            CCMP             PSK   -56.0         5.0   \n",
      "2          54     WPA2            CCMP             PSK   -26.0         2.0   \n",
      "3          54     WPA2            CCMP             PSK   -27.0         2.0   \n",
      "4          54      OPN                                   -27.0         1.0   \n",
      "5   # packets    BSSID   Probed ESSIDs             NaN     NaN         NaN   \n",
      "\n",
      "    # IV            LAN IP   ID-length         ESSID  Key  \n",
      "0    0.0     0.  0.  0.  0         7.0       BTWi-fi       \n",
      "1    0.0     0.  0.  0.  0        11.0   BTHub6-QTGF       \n",
      "2    0.0     0.  0.  0.  0         9.0                     \n",
      "3    0.0     0.  0.  0.  0         9.0     BT-8RCKHT       \n",
      "4    0.0     0.  0.  0.  0         7.0       BTWi-fi       \n",
      "5    NaN               NaN         NaN           NaN  NaN  \n"
     ]
    }
   ],
   "metadata": {}
  },
  {
   "cell_type": "code",
   "execution_count": 6,
   "source": [
    "mac_list = [mac for mac in df.iloc[:-1,0]]\n",
    "print(mac_list)\n"
   ],
   "outputs": [
    {
     "output_type": "stream",
     "name": "stdout",
     "text": [
      "['A6:08:F5:68:D5:17', 'A4:08:F5:68:D3:16', '7A:97:41:0F:33:D7', '70:97:41:0F:33:D3', '7A:97:41:0F:33:D4']\n"
     ]
    }
   ],
   "metadata": {}
  },
  {
   "cell_type": "code",
   "execution_count": 7,
   "source": [
    "df.to_sql('test', engine, if_exists='append', index=False)"
   ],
   "outputs": [],
   "metadata": {}
  },
  {
   "cell_type": "code",
   "execution_count": 9,
   "source": [
    "macs = pd.read_sql('test', engine)\n",
    "macs = macs['BSSID']\n",
    "macs = [mac for mac in macs if mac != \"Station MAC\"] # csv/df needs cleaning, unpredictable second header row\n",
    "print(macs)"
   ],
   "outputs": [
    {
     "output_type": "stream",
     "name": "stdout",
     "text": [
      "['A6:08:F5:68:D5:17', 'A4:08:F5:68:D3:16', '7A:97:41:0F:33:D7', '70:97:41:0F:33:D3', '7A:97:41:0F:33:D4', 'A6:08:F5:68:D5:17', 'A4:08:F5:68:D3:16', '7A:97:41:0F:33:D7', '70:97:41:0F:33:D3', '7A:97:41:0F:33:D4']\n"
     ]
    }
   ],
   "metadata": {}
  },
  {
   "cell_type": "code",
   "execution_count": 16,
   "source": [
    "mac_prefixes = [mac[:8].replace(\":\", \"\") for mac in macs] # organisational identifier\n",
    "mac_suffixes = [mac[9:].replace(\":\", \"\") for mac in macs] # personal identifier\n",
    "print(\"prefixes\")\n",
    "print(mac_prefixes)\n",
    "print(\"suffixes\")\n",
    "print(mac_suffixes)"
   ],
   "outputs": [
    {
     "output_type": "stream",
     "name": "stdout",
     "text": [
      "prefixes\n",
      "['A608F5', 'A408F5', '7A9741', '709741', '7A9741', 'A608F5', 'A408F5', '7A9741', '709741', '7A9741']\n",
      "suffixes\n",
      "['68D517', '68D316', '0F33D7', '0F33D3', '0F33D4', '68D517', '68D316', '0F33D7', '0F33D3', '0F33D4']\n"
     ]
    }
   ],
   "metadata": {}
  },
  {
   "cell_type": "markdown",
   "source": [
    "https://maclookup.app/search/result?mac=A408F5"
   ],
   "metadata": {}
  },
  {
   "cell_type": "code",
   "execution_count": 17,
   "source": [
    "import requests"
   ],
   "outputs": [],
   "metadata": {}
  },
  {
   "cell_type": "code",
   "execution_count": 47,
   "source": [
    "def mac_lookup(macaddr):\n",
    "    headers = {'User-agent': 'Mozilla/5.0 (X11; Ubuntu; Linux x86_64; rv:61.0) Gecko/20100101 Firefox/61.0'}\n",
    "    r = requests.get(f'https://maclookup.app/search/result?mac={macaddr}', headers = headers)\n",
    "    c = r.content\n",
    "    soup = BeautifulSoup(c, \"html.parser\")\n",
    "    try:\n",
    "        org = soup.select_one(\"h2\").get_text()\n",
    "    except:\n",
    "        org=\"Unknown\"\n",
    "    return org"
   ],
   "outputs": [],
   "metadata": {}
  },
  {
   "cell_type": "code",
   "execution_count": 48,
   "source": [
    "mac_lookup(\"A408F5\")"
   ],
   "outputs": [
    {
     "output_type": "execute_result",
     "data": {
      "text/plain": [
       "'Sagemcom Broadband SAS'"
      ]
     },
     "metadata": {},
     "execution_count": 48
    }
   ],
   "metadata": {}
  },
  {
   "cell_type": "code",
   "execution_count": 46,
   "source": [
    "devices = [mac_lookup(prefix) for prefix in mac_prefixes]\n",
    "print(devices)"
   ],
   "outputs": [
    {
     "output_type": "stream",
     "name": "stdout",
     "text": [
      "['Unknown', 'Sagemcom Broadband SAS', 'Unknown', 'Arcadyan Corporation', 'Unknown', 'Unknown', 'Sagemcom Broadband SAS', 'Unknown', 'Arcadyan Corporation', 'Unknown']\n"
     ]
    }
   ],
   "metadata": {}
  }
 ],
 "metadata": {
  "orig_nbformat": 4,
  "language_info": {
   "name": "python",
   "version": "3.8.5-final",
   "mimetype": "text/x-python",
   "codemirror_mode": {
    "name": "ipython",
    "version": 3
   },
   "pygments_lexer": "ipython3",
   "nbconvert_exporter": "python",
   "file_extension": ".py"
  },
  "kernelspec": {
   "name": "python3",
   "display_name": "Python 3",
   "language": "python"
  },
  "interpreter": {
   "hash": "31f2aee4e71d21fbe5cf8b01ff0e069b9275f58929596ceb00d14d90e3e16cd6"
  }
 },
 "nbformat": 4,
 "nbformat_minor": 2
}